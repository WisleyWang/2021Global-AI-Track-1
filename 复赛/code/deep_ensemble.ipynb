{
 "cells": [
  {
   "cell_type": "code",
   "execution_count": 1,
   "id": "valued-increase",
   "metadata": {
    "ExecuteTime": {
     "end_time": "2021-04-29T08:25:11.231233Z",
     "start_time": "2021-04-29T08:25:10.854413Z"
    }
   },
   "outputs": [],
   "source": [
    "import pandas as pd\n",
    "import numpy as np"
   ]
  },
  {
   "cell_type": "code",
   "execution_count": 2,
   "id": "involved-hours",
   "metadata": {
    "ExecuteTime": {
     "end_time": "2021-04-29T08:25:11.237177Z",
     "start_time": "2021-04-29T08:25:11.233023Z"
    }
   },
   "outputs": [],
   "source": [
    "def ensemble_fun(ensembles):\n",
    "    cob=0\n",
    "    # ensembles=[sub1,sub2,sub3,sub4,sub5]\n",
    "    for ss in ensembles:\n",
    "        cob+=ss[1].apply(lambda x: np.array(list(map(lambda x:float(x),x.replace('|','').strip().split(' ')))))/len(ensembles)\n",
    "    cob=cob.apply(lambda x:x-x.min())\n",
    "    return cob"
   ]
  },
  {
   "cell_type": "code",
   "execution_count": 18,
   "id": "young-numbers",
   "metadata": {
    "ExecuteTime": {
     "end_time": "2021-04-29T08:28:29.171114Z",
     "start_time": "2021-04-29T08:28:29.055317Z"
    }
   },
   "outputs": [],
   "source": [
    "sub=pd.DataFrame()\n",
    "test=pd.read_csv('../tcdata/track1_round1_testB.csv',header=None)\n",
    "sub['report_ID']=test[0]\n",
    "sub['Prediction']=[ '|'+' '.join(['%.12f'%j for j in i]) for i in test_oof ]\n",
    "sub.to_csv('../test_3.csv',index=False,header=False)"
   ]
  },
  {
   "cell_type": "code",
   "execution_count": 25,
   "id": "narrative-grammar",
   "metadata": {
    "ExecuteTime": {
     "end_time": "2021-04-29T08:33:11.377522Z",
     "start_time": "2021-04-29T08:33:11.060769Z"
    }
   },
   "outputs": [],
   "source": [
    "\n",
    "## 融合\n",
    "sub1=pd.read_csv('../test_1.csv',header=None)\n",
    "sub2=pd.read_csv('../test_2.csv',header=None)\n",
    "sub3=pd.read_csv('../test_3.csv',header=None)\n",
    "# sub4=pd.read_csv('./data/TextAttBiRNN_sub1_0.896_10fold.csv',header=None)\n",
    "# sub5=pd.read_csv('./data/textrnn_sub1_0.868.csv',header=None)\n",
    "cob=[sub1,sub2,sub3]\n",
    "cob=ensemble_fun(cob)\n",
    "test=pd.read_csv('../tcdata/track1_round1_testB.csv',header=None)\n",
    "sub=pd.DataFrame()\n",
    "sub['report_ID']=test[0]\n",
    "sub['Prediction']=[ '|'+' '.join(['%.12f'%j for j in i]) for i in cob]\n",
    "sub.to_csv('../result.csv',index=False,header=False)"
   ]
  },
  {
   "cell_type": "code",
   "execution_count": null,
   "id": "consistent-toolbox",
   "metadata": {},
   "outputs": [],
   "source": []
  }
 ],
 "metadata": {
  "kernelspec": {
   "display_name": "Python 3",
   "language": "python",
   "name": "python3"
  },
  "language_info": {
   "codemirror_mode": {
    "name": "ipython",
    "version": 3
   },
   "file_extension": ".py",
   "mimetype": "text/x-python",
   "name": "python",
   "nbconvert_exporter": "python",
   "pygments_lexer": "ipython3",
   "version": "3.6.4"
  },
  "toc": {
   "base_numbering": 1,
   "nav_menu": {},
   "number_sections": true,
   "sideBar": true,
   "skip_h1_title": false,
   "title_cell": "Table of Contents",
   "title_sidebar": "Contents",
   "toc_cell": false,
   "toc_position": {},
   "toc_section_display": true,
   "toc_window_display": false
  }
 },
 "nbformat": 4,
 "nbformat_minor": 5
}
